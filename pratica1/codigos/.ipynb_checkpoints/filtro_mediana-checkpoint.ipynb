{
 "cells": [
  {
   "cell_type": "code",
   "execution_count": 2,
   "metadata": {},
   "outputs": [],
   "source": [
    "using Images, ImageView \n",
    "using FileIO\n",
    "using Statistics"
   ]
  },
  {
   "cell_type": "code",
   "execution_count": 4,
   "metadata": {},
   "outputs": [
    {
     "name": "stdout",
     "output_type": "stream",
     "text": [
      "/home/zonzin/Documentos/Faculdade/visao_computacional/visao_computacional/pratica1/codigos"
     ]
    }
   ],
   "source": [
    "print(pwd())"
   ]
  },
  {
   "cell_type": "code",
   "execution_count": 15,
   "metadata": {},
   "outputs": [],
   "source": [
    "img = load(\"../data/peppers.jpg\");\n",
    "\n",
    "rgb = channelview(img);\n",
    "cinza = Gray.(rgb);"
   ]
  },
  {
   "cell_type": "code",
   "execution_count": 17,
   "metadata": {},
   "outputs": [
    {
     "data": {
      "text/plain": [
       "(3, 3)"
      ]
     },
     "metadata": {},
     "output_type": "display_data"
    }
   ],
   "source": [
    "mascara = (3,3)"
   ]
  },
  {
   "cell_type": "code",
   "execution_count": 19,
   "metadata": {},
   "outputs": [
    {
     "ename": "DimensionMismatch",
     "evalue": "DimensionMismatch: arrays could not be broadcast to a common size; got a dimension with lengths 3 and 2",
     "output_type": "error",
     "traceback": [
      "DimensionMismatch: arrays could not be broadcast to a common size; got a dimension with lengths 3 and 2\n",
      "\n",
      "Stacktrace:\n",
      "  [1] _bcs1\n",
      "    @ ./broadcast.jl:529 [inlined]\n",
      "  [2] _bcs\n",
      "    @ ./broadcast.jl:523 [inlined]\n",
      "  [3] broadcast_shape(::Tuple{Base.OneTo{Int64}}, ::Tuple{Base.OneTo{Int64}})\n",
      "    @ Base.Broadcast ./broadcast.jl:517\n",
      "  [4] combine_axes\n",
      "    @ ./broadcast.jl:512 [inlined]\n",
      "  [5] _axes\n",
      "    @ ./broadcast.jl:224 [inlined]\n",
      "  [6] axes\n",
      "    @ ./broadcast.jl:222 [inlined]\n",
      "  [7] copy\n",
      "    @ ./broadcast.jl:1085 [inlined]\n",
      "  [8] materialize\n",
      "    @ ./broadcast.jl:873 [inlined]\n",
      "  [9] copy_win!(buf::Matrix{Gray{N0f8}}, img::Array{Gray{N0f8}, 3}, I::CartesianIndex{3}, border::Pad{0}, offset::CartesianIndex{2})\n",
      "    @ ImageFiltering.MapWindow ~/.julia/packages/ImageFiltering/QW8Jn/src/mapwindow.jl:311\n",
      " [10] make_buffer_values_realistic!(buf::Matrix{Gray{N0f8}}, img::Array{Gray{N0f8}, 3}, window::Tuple{UnitRange{Int64}, UnitRange{Int64}}, border::Pad{0}, imginds::Tuple{Base.OneTo{Int64}, Base.OneTo{Int64}, Base.OneTo{Int64}})\n",
      "    @ ImageFiltering.MapWindow ~/.julia/packages/ImageFiltering/QW8Jn/src/mapwindow.jl:267\n",
      " [11] compute_output_eltype(f::typeof(median), img::Array{Gray{N0f8}, 3}, window::Tuple{UnitRange{Int64}, UnitRange{Int64}}, border::Pad{0}, imginds::Tuple{Base.OneTo{Int64}, Base.OneTo{Int64}, Base.OneTo{Int64}})\n",
      "    @ ImageFiltering.MapWindow ~/.julia/packages/ImageFiltering/QW8Jn/src/mapwindow.jl:255\n",
      " [12] allocate_output(f::typeof(median), img::Array{Gray{N0f8}, 3}, window::Tuple{UnitRange{Int64}, UnitRange{Int64}}, border::Pad{0}, imginds::Tuple{Base.OneTo{Int64}, Base.OneTo{Int64}, Base.OneTo{Int64}})\n",
      "    @ ImageFiltering.MapWindow ~/.julia/packages/ImageFiltering/QW8Jn/src/mapwindow.jl:241\n",
      " [13] _mapwindow(f::typeof(median), img::Array{Gray{N0f8}, 3}, window::Tuple{UnitRange{Int64}, UnitRange{Int64}}, border::Pad{0}, imginds::Tuple{Base.OneTo{Int64}, Base.OneTo{Int64}, Base.OneTo{Int64}})\n",
      "    @ ImageFiltering.MapWindow ~/.julia/packages/ImageFiltering/QW8Jn/src/mapwindow.jl:103\n",
      " [14] mapwindow(f::typeof(median), img::Array{Gray{N0f8}, 3}, window::Tuple{Int64, Int64}; border::String, indices::Tuple{Base.OneTo{Int64}, Base.OneTo{Int64}, Base.OneTo{Int64}}, callmode::Symbol)\n",
      "    @ ImageFiltering.MapWindow ~/.julia/packages/ImageFiltering/QW8Jn/src/mapwindow.jl:80\n",
      " [15] mapwindow(f::typeof(median), img::Array{Gray{N0f8}, 3}, window::Tuple{Int64, Int64})\n",
      "    @ ImageFiltering.MapWindow ~/.julia/packages/ImageFiltering/QW8Jn/src/mapwindow.jl:75\n",
      " [16] top-level scope\n",
      "    @ ~/Documentos/Faculdade/visao_computacional/visao_computacional/pratica1/codigos/filtro_mediana.ipynb:1"
     ]
    }
   ],
   "source": [
    "comfiltro = mapwindow(median, cinza, mascara);"
   ]
  },
  {
   "cell_type": "code",
   "execution_count": null,
   "metadata": {},
   "outputs": [],
   "source": [
    "img_filtrada = colorview(RGB, comfiltro)"
   ]
  },
  {
   "cell_type": "code",
   "execution_count": null,
   "metadata": {},
   "outputs": [],
   "source": []
  }
 ],
 "metadata": {
  "kernelspec": {
   "display_name": "Python 3 (ipykernel)",
   "language": "python",
   "name": "python3"
  },
  "language_info": {
   "codemirror_mode": {
    "name": "ipython",
    "version": 3
   },
   "file_extension": ".py",
   "mimetype": "text/x-python",
   "name": "python",
   "nbconvert_exporter": "python",
   "pygments_lexer": "ipython3",
   "version": "3.9.13"
  }
 },
 "nbformat": 4,
 "nbformat_minor": 2
}

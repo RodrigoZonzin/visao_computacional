{
 "cells": [
  {
   "cell_type": "code",
   "execution_count": 60,
   "id": "20f9f7a4",
   "metadata": {
    "scrolled": true
   },
   "outputs": [
    {
     "ename": "LoadError",
     "evalue": "ArgumentError: Package GLMakie not found in current path.\n- Run `import Pkg; Pkg.add(\"GLMakie\")` to install the GLMakie package.",
     "output_type": "error",
     "traceback": [
      "ArgumentError: Package GLMakie not found in current path.\n- Run `import Pkg; Pkg.add(\"GLMakie\")` to install the GLMakie package.",
      "",
      "Stacktrace:",
      " [1] macro expansion",
      "   @ ./loading.jl:1630 [inlined]",
      " [2] macro expansion",
      "   @ ./lock.jl:267 [inlined]",
      " [3] require(into::Module, mod::Symbol)",
      "   @ Base ./loading.jl:1611"
     ]
    }
   ],
   "source": [
    "using Images, ImageView, ImageMagick, ImageMorphology\n",
    "using GLMakie\n"
   ]
  },
  {
   "cell_type": "code",
   "execution_count": 54,
   "id": "dda3fa48",
   "metadata": {},
   "outputs": [
    {
     "data": {
      "text/plain": [
       "screenshot (generic function with 1 method)"
      ]
     },
     "execution_count": 54,
     "metadata": {},
     "output_type": "execute_result"
    }
   ],
   "source": [
    "#function screenshot()\n",
    "#    data = read(pipeline(`xwd -root`, `convert xwd:- png:-`))\n",
    "#    im = ImageMagick.load_(data)\n",
    "#end"
   ]
  },
  {
   "cell_type": "code",
   "execution_count": 61,
   "id": "5dc9489e",
   "metadata": {},
   "outputs": [
    {
     "ename": "LoadError",
     "evalue": "",
     "output_type": "error",
     "traceback": [
      "",
      "",
      "Stacktrace:",
      " [1] error(s::String)",
      "   @ Base ./error.jl:35",
      " [2] error(wand::MagickWand)",
      "   @ ImageMagick ~/.julia/packages/ImageMagick/KDZC2/src/libmagickwand.jl:187",
      " [3] readimage",
      "   @ ~/.julia/packages/ImageMagick/KDZC2/src/libmagickwand.jl:274 [inlined]",
      " [4] load_(file::String, permute_horizontal::Bool; ImageType::Type, extraprop::String, extrapropertynames::Nothing, view::Bool)",
      "   @ ImageMagick ~/.julia/packages/ImageMagick/KDZC2/src/ImageMagick.jl:145",
      " [5] load_ (repeats 2 times)",
      "   @ ~/.julia/packages/ImageMagick/KDZC2/src/ImageMagick.jl:137 [inlined]",
      " [6] #load#30",
      "   @ ~/.julia/packages/ImageMagick/KDZC2/src/ImageMagick.jl:125 [inlined]",
      " [7] load(::String)",
      "   @ ImageMagick ~/.julia/packages/ImageMagick/KDZC2/src/ImageMagick.jl:125",
      " [8] top-level scope",
      "   @ In[61]:1"
     ]
    }
   ],
   "source": [
    "src = ImageMagick.load(\"screenshot:\");\n",
    "hsv = HSV.(src)\n",
    "cs = channelview(hsv);"
   ]
  },
  {
   "cell_type": "code",
   "execution_count": 58,
   "id": "d2e1a2d1",
   "metadata": {},
   "outputs": [
    {
     "data": {
      "image/png": "[encoded data removed]",
      "text/html": [
       "<img src=\"data:image/png;base64,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\">"
      ],
      "text/plain": [
       "301×501 reinterpret(reshape, RGB{Float32}, ::Array{Float32, 3}) with eltype RGB{Float32}:\n",
       " RGB{Float32}(0.0,0.0,0.133333)  …  RGB{Float32}(0.0,0.0,0.972549)\n",
       " RGB{Float32}(0.0,0.0,0.133333)     RGB{Float32}(0.0,0.0,0.972549)\n",
       " RGB{Float32}(0.0,0.0,0.133333)     RGB{Float32}(0.0,0.0,0.972549)\n",
       " RGB{Float32}(0.0,0.0,0.133333)     RGB{Float32}(0.0,0.0,0.972549)\n",
       " RGB{Float32}(0.0,0.0,0.133333)     RGB{Float32}(0.0,0.0,0.972549)\n",
       " RGB{Float32}(0.0,0.0,0.133333)  …  RGB{Float32}(0.0,0.0,0.972549)\n",
       " RGB{Float32}(0.0,0.0,0.133333)     RGB{Float32}(0.0,0.0,0.972549)\n",
       " RGB{Float32}(0.0,0.0,0.133333)     RGB{Float32}(0.0,0.0,0.972549)\n",
       " RGB{Float32}(0.0,0.0,0.133333)     RGB{Float32}(0.0,0.0,0.972549)\n",
       " RGB{Float32}(0.0,0.0,0.133333)     RGB{Float32}(0.0,0.0,0.972549)\n",
       " RGB{Float32}(0.0,0.0,0.133333)  …  RGB{Float32}(0.0,0.0,0.972549)\n",
       " RGB{Float32}(0.0,0.0,0.133333)     RGB{Float32}(0.0,0.0,0.972549)\n",
       " RGB{Float32}(0.0,0.0,0.133333)     RGB{Float32}(0.0,0.0,0.905882)\n",
       " ⋮                               ⋱  ⋮\n",
       " RGB{Float32}(0.0,0.0,0.0)          RGB{Float32}(206.816,0.730612,0.960784)\n",
       " RGB{Float32}(0.0,0.0,0.0)       …  RGB{Float32}(206.816,0.730612,0.960784)\n",
       " RGB{Float32}(228.0,1.0,1.0)        RGB{Float32}(206.816,0.730612,0.960784)\n",
       " RGB{Float32}(228.0,1.0,1.0)        RGB{Float32}(206.816,0.730612,0.960784)\n",
       " RGB{Float32}(0.0,0.0,0.0)          RGB{Float32}(206.816,0.730612,0.960784)\n",
       " RGB{Float32}(0.0,0.0,0.0)          RGB{Float32}(206.816,0.730612,0.960784)\n",
       " RGB{Float32}(0.0,0.0,0.0)       …  RGB{Float32}(206.816,0.730612,0.960784)\n",
       " RGB{Float32}(0.0,0.0,0.0)          RGB{Float32}(206.816,0.730612,0.960784)\n",
       " RGB{Float32}(228.0,1.0,1.0)        RGB{Float32}(206.816,0.730612,0.960784)\n",
       " RGB{Float32}(228.0,1.0,1.0)        RGB{Float32}(206.816,0.730612,0.960784)\n",
       " RGB{Float32}(0.0,0.0,0.0)          RGB{Float32}(206.816,0.730612,0.960784)\n",
       " RGB{Float32}(0.0,0.0,0.0)       …  RGB{Float32}(206.816,0.730612,0.960784)"
      ]
     },
     "execution_count": 58,
     "metadata": {},
     "output_type": "execute_result"
    }
   ],
   "source": [
    "pos_janela=[200 500 200 700]\n",
    "csn = cs[:,pos_janela[1]:pos_janela[2],pos_janela[3]:pos_janela[4]];\n",
    "csni = colorview(RGB,csn)"
   ]
  },
  {
   "cell_type": "code",
   "execution_count": 59,
   "id": "97e6a48d",
   "metadata": {},
   "outputs": [
    {
     "ename": "LoadError",
     "evalue": "UndefVarError: `GLMakie` not defined",
     "output_type": "error",
     "traceback": [
      "UndefVarError: `GLMakie` not defined",
      "",
      "Stacktrace:",
      " [1] top-level scope",
      "   @ In[59]:1"
     ]
    }
   ],
   "source": [
    "obs_img = GLMakie.Observable(GLMakie.rotr90(csni))\n",
    "scene = GLMakie.Scene(camera=GLMakie.campixel!, resolution=reverse(size(csni)))\n",
    "GLMakie.image!(scene, obs_img)"
   ]
  },
  {
   "cell_type": "code",
   "execution_count": null,
   "id": "091fcc10",
   "metadata": {},
   "outputs": [],
   "source": [
    "display(scene)\n",
    "x=(1,2)"
   ]
  },
  {
   "cell_type": "code",
   "execution_count": null,
   "id": "e43796fa",
   "metadata": {},
   "outputs": [],
   "source": [
    "for i=1:10\n",
    "    screenshot = ImageMagick.load(\"screenshot:\");\n",
    "    hsv = HSV.(screenshot)\n",
    "    cs = channelview(hsv);\n",
    "    #csn = cs[:,li:lf,ci:cf];\n",
    "    csn = cs[:,pos_janela[1]:pos_janela[2],pos_janela[3]:pos_janela[4]];\n",
    "\n",
    "    csni = colorview(RGB,csn)\n",
    "    map_claro = csn[3,:,:].>=0.1 .&& csn[3,:,:].<=2;\n",
    "    map_claro = opening(erode(map_claro))\n",
    "    lc = label_components(map_claro)\n",
    "    comp1 = lc .== 5\n",
    "    x = ([findmax(sum(comp1,dims=1)) findmax(sum(comp1,dims=2))])\n",
    "    obs_img = GLMakie.Observable(GLMakie.rotr90(Gray.(comp1)))\n",
    "    GLMakie.image!(scene, obs_img)\n",
    "    sleep(0.01)\n",
    "   \n",
    "   \n",
    "end"
   ]
  }
 ],
 "metadata": {
  "kernelspec": {
   "display_name": "Julia 1.9.2",
   "language": "julia",
   "name": "julia-1.9"
  },
  "language_info": {
   "file_extension": ".jl",
   "mimetype": "application/julia",
   "name": "julia",
   "version": "1.9.2"
  }
 },
 "nbformat": 4,
 "nbformat_minor": 5
}

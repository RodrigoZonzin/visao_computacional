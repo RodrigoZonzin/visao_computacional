{
 "cells": [
  {
   "cell_type": "code",
   "execution_count": 2,
   "id": "93fbf5ce",
   "metadata": {},
   "outputs": [],
   "source": [
    "using VideoIO, ImageView, Images, GLMakie\n",
    "\n"
   ]
  },
  {
   "cell_type": "code",
   "execution_count": 20,
   "id": "22fc70d2",
   "metadata": {},
   "outputs": [
    {
     "data": {
      "text/plain": [
       "VideoReader(...)"
      ]
     },
     "execution_count": 20,
     "metadata": {},
     "output_type": "execute_result"
    }
   ],
   "source": [
    "#pwd()\n",
    "cap = VideoIO.openvideo(\"Arquivos/mm3-curto.mp4\")"
   ]
  },
  {
   "cell_type": "code",
   "execution_count": 21,
   "id": "c2a75dbf",
   "metadata": {},
   "outputs": [
    {
     "data": {
      "text/plain": [
       "GLMakie.Screen(...)"
      ]
     },
     "execution_count": 21,
     "metadata": {},
     "output_type": "execute_result"
    }
   ],
   "source": [
    "frame=read(cap)\n",
    "obs_img = GLMakie.Observable(GLMakie.rotr90(frame))\n",
    "scene = GLMakie.Scene(camera=GLMakie.campixel!, resolution=reverse(size(frame)))\n",
    "GLMakie.image!(scene, obs_img)\n",
    "\n",
    "display(scene)"
   ]
  },
  {
   "cell_type": "code",
   "execution_count": 23,
   "id": "051f9e36",
   "metadata": {},
   "outputs": [
    {
     "data": {
      "text/plain": [
       "Dict{String, Any} with 4 entries:\n",
       "  \"gui\"         => Dict{String, Any}(\"window\"=>GtkWindowLeaf(name=\"\", parent, w…\n",
       "  \"roi\"         => Dict{String, Any}(\"redraw\"=>ObserverFunction[ObserverFunctio…\n",
       "  \"annotations\" => Observable(Dict{UInt64, Any}())\n",
       "  \"clim\"        => Observable(CLim{RGB{Float64}}(RGB{Float64}(0.0,0.0,0.0), RGB…"
      ]
     },
     "execution_count": 23,
     "metadata": {},
     "output_type": "execute_result"
    }
   ],
   "source": [
    "seek(cap,198)\n",
    "frame170 = read(cap)\n",
    "imshow(frame170)"
   ]
  },
  {
   "cell_type": "code",
   "execution_count": 7,
   "id": "9bf77d67",
   "metadata": {},
   "outputs": [],
   "source": [
    "for i=1:100\n",
    "    frame=read(cap)\n",
    "    img = channelview(HSV.(frame))\n",
    "    mask = img[1,:,:].>=10 .&& img[1,:,:].<=130\n",
    "    obs_img[] = GLMakie.rotr90(mask)\n",
    "    sleep(1/30)  \n",
    "end"
   ]
  },
  {
   "cell_type": "code",
   "execution_count": 8,
   "id": "9ef82938",
   "metadata": {},
   "outputs": [],
   "source": [
    "VideoIO.close(cap)"
   ]
  },
  {
   "cell_type": "code",
   "execution_count": null,
   "id": "059deb95",
   "metadata": {},
   "outputs": [],
   "source": []
  }
 ],
 "metadata": {
  "kernelspec": {
   "display_name": "Julia 1.9.2",
   "language": "julia",
   "name": "julia-1.9"
  },
  "language_info": {
   "file_extension": ".jl",
   "mimetype": "application/julia",
   "name": "julia",
   "version": "1.9.2"
  }
 },
 "nbformat": 4,
 "nbformat_minor": 5
}

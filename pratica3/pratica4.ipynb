{
 "cells": [
  {
   "cell_type": "code",
   "execution_count": 1,
   "metadata": {},
   "outputs": [],
   "source": [
    "import cv2 \n",
    "import numpy as np \n",
    "import matplotlib.pyplot as plt\n",
    "import random \n",
    "import time"
   ]
  },
  {
   "cell_type": "code",
   "execution_count": 2,
   "metadata": {},
   "outputs": [],
   "source": [
    "def lerVideo(caminho):\n",
    "    cap = cv2.VideoCapture(caminho)\n",
    "    frames = []\n",
    "\n",
    "    if not cap.isOpened():\n",
    "        raise(\"Erro abrindo o arquivo!\")\n",
    "\n",
    "    while True: \n",
    "        ret, frame = cap.read()\n",
    "\n",
    "        if not ret:\n",
    "            print(\"Último frame ou erro\")\n",
    "            break\n",
    "\n",
    "        frames.append(frame)\n",
    "\n",
    "        if cv2.waitKey(1) == ord('q'):\n",
    "            break\n",
    "        \n",
    "\n",
    "    print(\"Leitura completa\")\n",
    "    cap.release()\n",
    "    return np.array(frames)"
   ]
  },
  {
   "cell_type": "code",
   "execution_count": 3,
   "metadata": {},
   "outputs": [],
   "source": [
    "#frames = lerVideo('EAFC24.mp4')"
   ]
  },
  {
   "cell_type": "code",
   "execution_count": 4,
   "metadata": {},
   "outputs": [],
   "source": [
    "from matplotlib import cm\n",
    "from matplotlib.colors import ListedColormap, LinearSegmentedColormap"
   ]
  },
  {
   "cell_type": "code",
   "execution_count": 5,
   "metadata": {},
   "outputs": [],
   "source": [
    "values_list = [0, 1, 2]\n",
    "colors_list = ['#000000', '#FFFFFF', '#00FF00']\n",
    "cmap = ListedColormap(colors_list, name='custom_cmap', N=len(colors_list))"
   ]
  },
  {
   "cell_type": "code",
   "execution_count": 6,
   "metadata": {},
   "outputs": [],
   "source": [
    "def reproduzirVideo(frames):\n",
    "    for frame in frames:\n",
    "        cv2.imshow(\"Sem fundo\", frame)\n",
    "        \n",
    "        if cv2.waitKey(1) == ord('q'):\n",
    "            break\n",
    "\n",
    "        time.sleep(1/30)\n",
    "\n",
    "    cv2.destroyAllWindows()\n"
   ]
  },
  {
   "attachments": {},
   "cell_type": "markdown",
   "metadata": {},
   "source": [
    "### Filtrando apenas objetos brancos e (roxos)"
   ]
  },
  {
   "cell_type": "code",
   "execution_count": 7,
   "metadata": {},
   "outputs": [],
   "source": [
    "#img_teste = frames[400]\n",
    "\n",
    "##plt.imshow(img_teste)\n",
    "#plt.show()"
   ]
  },
  {
   "cell_type": "code",
   "execution_count": 8,
   "metadata": {},
   "outputs": [],
   "source": [
    "def onlyWhite(img, sensitivity=90, k_size = 3):\n",
    "    img_hsv = cv2.cvtColor(img, cv2.COLOR_BGR2HSV)\n",
    "\n",
    "    lower_white = np.array([0, 0, 255 - sensitivity])\n",
    "    upper_white = np.array([255, sensitivity, 255])\n",
    "\n",
    "    mask = cv2.inRange(img_hsv, lower_white, upper_white)\n",
    "\n",
    "    #Openning na imagem \n",
    "    kernel = np.ones((k_size, k_size))\n",
    "    mask = cv2.morphologyEx(mask, cv2.MORPH_OPEN, kernel)\n",
    "\n",
    "    return mask\n"
   ]
  },
  {
   "cell_type": "code",
   "execution_count": 9,
   "metadata": {},
   "outputs": [],
   "source": [
    "def blueAndRed(img, k_size = 3):\n",
    "    img_hsv = cv2.cvtColor(img, cv2.COLOR_BGR2HSV)\n",
    "\n",
    "    lower_blue = np.array([80, 140, 0])\n",
    "    upper_blue = np.array([160, 255, 255])\n",
    "\n",
    "    lower_red = np.array([130, 90, 100])\n",
    "    upper_red = np.array([200, 255, 255])\n",
    "\n",
    "    mask_blue = cv2.inRange(img_hsv, lower_blue, upper_blue)\n",
    "    mask_red = cv2.inRange(img_hsv, lower_red, upper_red)\n",
    "\n",
    "\n",
    "\n",
    "\n",
    "    mask = cv2.bitwise_or(mask_blue, mask_red)\n",
    "\n",
    "    #Openning na imagem \n",
    "    kernel = np.ones((k_size, k_size))\n",
    "    #mask = cv2.morphologyEx(mask, cv2.MORPH_OPEN, kernel)\n",
    "    mask = cv2.dilate(mask, kernel)\n",
    "    \n",
    "\n",
    "    \"\"\"\n",
    "    plt.subplot(2, 2, 1)\n",
    "    plt.imshow(mask_blue)\n",
    "    plt.subplot(2, 2, 2)\n",
    "    plt.imshow(mask_red)\n",
    "    plt.subplot(2, 2 ,3)\n",
    "    plt.imshow(mask)\n",
    "    plt.subplot(2, 2 ,4)\n",
    "    plt.imshow(img)\n",
    "    plt.show()\n",
    "    \"\"\"\n",
    "\n",
    "    return mask\n",
    "    \n"
   ]
  },
  {
   "cell_type": "code",
   "execution_count": 10,
   "metadata": {},
   "outputs": [],
   "source": [
    "#frames= lerVideo('EAFC24.mp4')"
   ]
  },
  {
   "cell_type": "code",
   "execution_count": 11,
   "metadata": {},
   "outputs": [],
   "source": [
    "#apenas_brancos = np.array([onlyWhite(frame, 110, k_size=2) for frame in frames])"
   ]
  },
  {
   "cell_type": "code",
   "execution_count": 12,
   "metadata": {},
   "outputs": [],
   "source": [
    "#reproduzirVideo(apenas_brancos)\n"
   ]
  },
  {
   "attachments": {},
   "cell_type": "markdown",
   "metadata": {},
   "source": [
    "#### Retirando o fundo do vídeo\n",
    "Utilizando a diferença de frame em relação ao anterior\n",
    "\n",
    "$Foreground = | I_t - I_{t-1} | > T$"
   ]
  },
  {
   "cell_type": "code",
   "execution_count": 13,
   "metadata": {},
   "outputs": [],
   "source": [
    "def difFrames(frames): \n",
    "    n = frames.shape[0];\n",
    "    print(n) \n",
    "    dif = []\n",
    "    for i in range(n-1, 0, -1):\n",
    "        #print(i, i-1)\n",
    "        dif.append(cv2.absdiff(frames[i], frames[i-1]))\n",
    "\n",
    "    return np.array(dif[::-1])"
   ]
  },
  {
   "cell_type": "code",
   "execution_count": 14,
   "metadata": {},
   "outputs": [],
   "source": [
    "#dif = difFrames(frames)"
   ]
  },
  {
   "attachments": {},
   "cell_type": "markdown",
   "metadata": {},
   "source": [
    "### Usando a mediana para subtrair o fundo \n",
    "$Foreground_t = |I_t - B | > T $, onde $B = median(I_1, I_2, ... , I_k)$"
   ]
  },
  {
   "cell_type": "code",
   "execution_count": 15,
   "metadata": {},
   "outputs": [],
   "source": [
    "def difFramesMedian(frames, k, threshold=30):\n",
    "    newFrames = [] \n",
    "    background_frames = frames[-k:]\n",
    "    median_frame = np.median(background_frames, axis = 0).astype(np.uint8)\n",
    "\n",
    "\n",
    "    for i, frame in enumerate(frames):\n",
    "        abs_diff = cv2.absdiff(frame, median_frame)\n",
    "\n",
    "        #abs_diff = cv2.cvtColor(abs_diff, cv2.COLOR_BGR2GRAY)\n",
    "        \n",
    "        _, foreground_mask = cv2.threshold(abs_diff, threshold, 255, cv2.THRESH_BINARY)\n",
    "\n",
    "        newFrames.append(foreground_mask)\n",
    "\n",
    "    return np.array(newFrames)"
   ]
  },
  {
   "cell_type": "code",
   "execution_count": 16,
   "metadata": {},
   "outputs": [],
   "source": [
    "#for k in [30, 60, 90, 120]:\n",
    "#    dif = difFramesMedian(frames, k, 110)\n",
    "#    reproduzirVideo(dif)"
   ]
  },
  {
   "cell_type": "code",
   "execution_count": 17,
   "metadata": {},
   "outputs": [],
   "source": [
    "#dif = difFramesMedian(apenas_brancos, k = 250, threshold = 230)"
   ]
  },
  {
   "cell_type": "code",
   "execution_count": 18,
   "metadata": {},
   "outputs": [],
   "source": [
    "#reproduzirVideo(dif)"
   ]
  },
  {
   "cell_type": "code",
   "execution_count": 19,
   "metadata": {},
   "outputs": [],
   "source": [
    "def evaluateKmeans(img, k=2):\n",
    "    image = cv2.cvtColor(img, cv2.COLOR_BGR2RGB) \n",
    "\n",
    "    # reshape the image to a 2D array of pixels and 3 color values (RGB)\n",
    "    pixel_values = img.reshape((-1, 3))\n",
    "    # convert to float\n",
    "    pixel_values = np.float32(pixel_values)\n",
    "\n",
    "    criteria = (cv2.TERM_CRITERIA_EPS + cv2.TERM_CRITERIA_MAX_ITER, 100, 0.2)\n",
    "\n",
    "    # number of clusters (K)\n",
    "    \n",
    "    _, labels, (centers) = cv2.kmeans(pixel_values, k, None, criteria, 10, cv2.KMEANS_RANDOM_CENTERS)\n",
    "\n",
    "    # convert back to 8 bit values\n",
    "    centers = np.uint8(centers)\n",
    "\n",
    "    # flatten the labels array\n",
    "    labels = labels.flatten()\n",
    "\n",
    "\n",
    "    # convert all pixels to the color of the centroids\n",
    "    segmented_image = centers[labels.flatten()]\n",
    "\n",
    "    # reshape back to the original image dimension\n",
    "    segmented_image = segmented_image.reshape(img.shape)\n",
    "    # show the image\n",
    "    #plt.imshow(segmented_image)\n",
    "    #plt.show()\n",
    "    return segmented_image"
   ]
  },
  {
   "cell_type": "code",
   "execution_count": 20,
   "metadata": {},
   "outputs": [],
   "source": [
    "def aplicarKmeanFrames(frames, k =2): \n",
    "    return np.array([evaluateKmeans(img, k) for img in frames])\n",
    "    "
   ]
  },
  {
   "cell_type": "code",
   "execution_count": 21,
   "metadata": {},
   "outputs": [],
   "source": [
    "#img = frames[400]"
   ]
  },
  {
   "cell_type": "code",
   "execution_count": 22,
   "metadata": {},
   "outputs": [],
   "source": [
    "def recortaCampo(frames):\n",
    "    new_frames = np.array([img[200: , :, :] for img in frames])\n",
    "    return new_frames\n",
    "    "
   ]
  },
  {
   "cell_type": "code",
   "execution_count": 23,
   "metadata": {},
   "outputs": [],
   "source": [
    "def aplicaOppening(frames, kernel):\n",
    "    return np.array([cv2.morphologyEx(img, cv2.MORPH_OPEN, kernel) for img in frames])\n",
    "    "
   ]
  },
  {
   "cell_type": "markdown",
   "metadata": {},
   "source": [
    "### Pipeline de procesamento"
   ]
  },
  {
   "cell_type": "code",
   "execution_count": 24,
   "metadata": {},
   "outputs": [
    {
     "name": "stdout",
     "output_type": "stream",
     "text": [
      "Último frame ou erro\n",
      "Leitura completa\n"
     ]
    }
   ],
   "source": [
    "frames_original = lerVideo('EAFC24.mp4')"
   ]
  },
  {
   "cell_type": "markdown",
   "metadata": {},
   "source": [
    "#### Apenas branco"
   ]
  },
  {
   "cell_type": "code",
   "execution_count": 25,
   "metadata": {},
   "outputs": [],
   "source": [
    "frames = recortaCampo(frames_original)\n",
    "\n",
    "\n",
    "apenas_brancos = np.array([onlyWhite(frame, 110, k_size=2) for frame in frames])\n",
    "apenas_brancos = aplicaOppening(apenas_brancos, np.ones((4, 4)))"
   ]
  },
  {
   "cell_type": "markdown",
   "metadata": {},
   "source": [
    "#### Apenas roxo"
   ]
  },
  {
   "cell_type": "code",
   "execution_count": 26,
   "metadata": {},
   "outputs": [],
   "source": [
    "frames = recortaCampo(frames_original)\n",
    "\n",
    "apenas_roxos = np.array([blueAndRed(frame, k_size = 3) for frame in frames])\n",
    "apenas_roxos = aplicaOppening(apenas_roxos, np.ones((4, 4)))\n"
   ]
  },
  {
   "cell_type": "markdown",
   "metadata": {},
   "source": [
    "#### Aplicando um label"
   ]
  },
  {
   "cell_type": "code",
   "execution_count": 27,
   "metadata": {},
   "outputs": [],
   "source": [
    "apenas_brancos = apenas_brancos/255 * 1\n",
    "apenas_roxos = apenas_roxos/255 * 2"
   ]
  },
  {
   "cell_type": "markdown",
   "metadata": {},
   "source": [
    "#### Unindo os dois elementos"
   ]
  },
  {
   "cell_type": "code",
   "execution_count": 29,
   "metadata": {},
   "outputs": [
    {
     "name": "stdout",
     "output_type": "stream",
     "text": [
      "982\n"
     ]
    }
   ],
   "source": [
    "apenas_roxos = cv2.bitwise_or(apenas_brancos, apenas_roxos)\n",
    "apenas_roxos = difFrames(apenas_roxos)\n",
    "apenas_roxos = aplicarKmeanFrames(apenas_roxos)"
   ]
  },
  {
   "cell_type": "code",
   "execution_count": 33,
   "metadata": {},
   "outputs": [],
   "source": [
    "reproduzirVideo(apenas_roxos)"
   ]
  },
  {
   "cell_type": "markdown",
   "metadata": {},
   "source": [
    "#### Salvando resultado em formato .npy"
   ]
  },
  {
   "cell_type": "code",
   "execution_count": 32,
   "metadata": {},
   "outputs": [],
   "source": [
    "np.save(arr= apenas_roxos, file='pratica4_opendepois.npy')"
   ]
  },
  {
   "cell_type": "code",
   "execution_count": null,
   "metadata": {},
   "outputs": [],
   "source": []
  }
 ],
 "metadata": {
  "kernelspec": {
   "display_name": "Python 3",
   "language": "python",
   "name": "python3"
  },
  "language_info": {
   "codemirror_mode": {
    "name": "ipython",
    "version": 3
   },
   "file_extension": ".py",
   "mimetype": "text/x-python",
   "name": "python",
   "nbconvert_exporter": "python",
   "pygments_lexer": "ipython3",
   "version": "3.10.12"
  },
  "orig_nbformat": 4
 },
 "nbformat": 4,
 "nbformat_minor": 2
}
